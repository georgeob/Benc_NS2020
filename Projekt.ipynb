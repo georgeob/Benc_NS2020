{
  "cells": [
    {
      "metadata": {
        "trusted": true
      },
      "cell_type": "code",
      "source": "import numpy as np\nimport pandas as pd\n\n#dataset import\ndataset = pd.read_csv(\"train.csv\") \ndataset.head(3)",
      "execution_count": 1,
      "outputs": [
        {
          "output_type": "execute_result",
          "execution_count": 1,
          "data": {
            "text/html": "<div>\n<style scoped>\n    .dataframe tbody tr th:only-of-type {\n        vertical-align: middle;\n    }\n\n    .dataframe tbody tr th {\n        vertical-align: top;\n    }\n\n    .dataframe thead th {\n        text-align: right;\n    }\n</style>\n<table border=\"1\" class=\"dataframe\">\n  <thead>\n    <tr style=\"text-align: right;\">\n      <th></th>\n      <th>battery_power</th>\n      <th>blue</th>\n      <th>clock_speed</th>\n      <th>dual_sim</th>\n      <th>fc</th>\n      <th>four_g</th>\n      <th>int_memory</th>\n      <th>m_dep</th>\n      <th>mobile_wt</th>\n      <th>n_cores</th>\n      <th>...</th>\n      <th>px_height</th>\n      <th>px_width</th>\n      <th>ram</th>\n      <th>sc_h</th>\n      <th>sc_w</th>\n      <th>talk_time</th>\n      <th>three_g</th>\n      <th>touch_screen</th>\n      <th>wifi</th>\n      <th>price_range</th>\n    </tr>\n  </thead>\n  <tbody>\n    <tr>\n      <th>0</th>\n      <td>842</td>\n      <td>0</td>\n      <td>2.2</td>\n      <td>0</td>\n      <td>1</td>\n      <td>0</td>\n      <td>7</td>\n      <td>0.6</td>\n      <td>188</td>\n      <td>2</td>\n      <td>...</td>\n      <td>20</td>\n      <td>756</td>\n      <td>2549</td>\n      <td>9</td>\n      <td>7</td>\n      <td>19</td>\n      <td>0</td>\n      <td>0</td>\n      <td>1</td>\n      <td>1</td>\n    </tr>\n    <tr>\n      <th>1</th>\n      <td>1021</td>\n      <td>1</td>\n      <td>0.5</td>\n      <td>1</td>\n      <td>0</td>\n      <td>1</td>\n      <td>53</td>\n      <td>0.7</td>\n      <td>136</td>\n      <td>3</td>\n      <td>...</td>\n      <td>905</td>\n      <td>1988</td>\n      <td>2631</td>\n      <td>17</td>\n      <td>3</td>\n      <td>7</td>\n      <td>1</td>\n      <td>1</td>\n      <td>0</td>\n      <td>2</td>\n    </tr>\n    <tr>\n      <th>2</th>\n      <td>563</td>\n      <td>1</td>\n      <td>0.5</td>\n      <td>1</td>\n      <td>2</td>\n      <td>1</td>\n      <td>41</td>\n      <td>0.9</td>\n      <td>145</td>\n      <td>5</td>\n      <td>...</td>\n      <td>1263</td>\n      <td>1716</td>\n      <td>2603</td>\n      <td>11</td>\n      <td>2</td>\n      <td>9</td>\n      <td>1</td>\n      <td>1</td>\n      <td>0</td>\n      <td>2</td>\n    </tr>\n  </tbody>\n</table>\n<p>3 rows × 21 columns</p>\n</div>",
            "text/plain": "   battery_power  blue  clock_speed  dual_sim  fc  four_g  int_memory  m_dep  \\\n0            842     0          2.2         0   1       0           7    0.6   \n1           1021     1          0.5         1   0       1          53    0.7   \n2            563     1          0.5         1   2       1          41    0.9   \n\n   mobile_wt  n_cores     ...       px_height  px_width   ram  sc_h  sc_w  \\\n0        188        2     ...              20       756  2549     9     7   \n1        136        3     ...             905      1988  2631    17     3   \n2        145        5     ...            1263      1716  2603    11     2   \n\n   talk_time  three_g  touch_screen  wifi  price_range  \n0         19        0             0     1            1  \n1          7        1             1     0            2  \n2          9        1             1     0            2  \n\n[3 rows x 21 columns]"
          },
          "metadata": {}
        }
      ]
    },
    {
      "metadata": {
        "trusted": true
      },
      "cell_type": "code",
      "source": "#načítanie dát pomocou pandas knižnice\nX = dataset.iloc[:,:20].values #informácie o zariadení okrem cenovej skupiny\ny = dataset.iloc[:,20:21].values #posledný stĺpec, cenová skupina\nfrom sklearn.preprocessing import StandardScaler\nsc = StandardScaler() \nX = sc.fit_transform(X) #úprava údajov na štandardizovanú hodnotu.\nX",
      "execution_count": 2,
      "outputs": [
        {
          "output_type": "execute_result",
          "execution_count": 2,
          "data": {
            "text/plain": "array([[-0.90259726, -0.9900495 ,  0.83077942, ..., -1.78686097,\n        -1.00601811,  0.98609664],\n       [-0.49513857,  1.0100505 , -1.2530642 , ...,  0.55964063,\n         0.99401789, -1.01409939],\n       [-1.5376865 ,  1.0100505 , -1.2530642 , ...,  0.55964063,\n         0.99401789, -1.01409939],\n       ...,\n       [ 1.53077336, -0.9900495 , -0.76274805, ...,  0.55964063,\n         0.99401789, -1.01409939],\n       [ 0.62252745, -0.9900495 , -0.76274805, ...,  0.55964063,\n         0.99401789,  0.98609664],\n       [-1.65833069,  1.0100505 ,  0.58562134, ...,  0.55964063,\n         0.99401789,  0.98609664]])"
          },
          "metadata": {}
        }
      ]
    },
    {
      "metadata": {
        "trusted": true
      },
      "cell_type": "code",
      "source": "from sklearn.preprocessing import OneHotEncoder \nohe = OneHotEncoder() #import OHN\ny = ohe.fit_transform(y).toarray() # premenenie hodnôt y z int na bool array\ny",
      "execution_count": 3,
      "outputs": [
        {
          "output_type": "stream",
          "text": "/home/nbuser/anaconda3_501/lib/python3.6/site-packages/sklearn/preprocessing/_encoders.py:371: FutureWarning: The handling of integer data will change in version 0.22. Currently, the categories are determined based on the range [0, max(values)], while in the future they will be determined based on the unique values.\nIf you want the future behaviour and silence this warning, you can specify \"categories='auto'\".\nIn case you used a LabelEncoder before this OneHotEncoder to convert the categories to integers, then you can now use the OneHotEncoder directly.\n  warnings.warn(msg, FutureWarning)\n",
          "name": "stderr"
        },
        {
          "output_type": "execute_result",
          "execution_count": 3,
          "data": {
            "text/plain": "array([[0., 1., 0., 0.],\n       [0., 0., 1., 0.],\n       [0., 0., 1., 0.],\n       ...,\n       [0., 0., 0., 1.],\n       [1., 0., 0., 0.],\n       [0., 0., 0., 1.]])"
          },
          "metadata": {}
        }
      ]
    },
    {
      "metadata": {
        "trusted": true
      },
      "cell_type": "code",
      "source": "from sklearn.model_selection import train_test_split \nX_train,X_test,y_train,y_test = train_test_split(X,y,test_size = 0.1) # rozdelenie dát na train,test pre X y. test_size urcite podiel training(90%) a test (10%)",
      "execution_count": 4,
      "outputs": []
    },
    {
      "metadata": {
        "trusted": true
      },
      "cell_type": "code",
      "source": "import keras # import neurónovej sieti Keras\nfrom keras.models import Sequential #import sekvenčného modelu \nfrom keras.layers import Dense #Dense (plne prepojené) vrstvy , spája všetky input hodnoty s output hudnotamy na každej vrstve\n\n# Neural network\nmodel = Sequential() # sekvenčný model NS\n#add 2 skryté vrstvy o 20 a 12 dimenzií Dense(20,...) a Dense(12,...)\nmodel.add(Dense(20, input_dim=20, activation=\"relu\")) # určuje vstupnú dimenziu 20 (dáta) a aktivačnú funkciu relu\nmodel.add(Dense(12, activation=\"relu\")) # podobne určuje vrstvu s 12 dimenziami, keďže ide o sekvenčný model Kerasu, automaticky ho prevezme z 1.\nmodel.add(Dense(4, activation=\"softmax\")) # output je nastaveny na 4, pretože cenové dĺžky sú od 1 po 4, teda 4 objekty na klasifikovanie\nmodel.summary()\n# softmax je aktivačná funkcia ktorá berie výstup poslednej vrstvy viactriednej klasifikačnej neurónovej sieti\n#vezme exponenty každého výstupu a potom normalizuje každé číslo súčtom týchto exponentov, takže celý výstupný vektor sa bude rovnať 1 - všetky pravdepodobnosti by sa mali po súčte rovnať 1",
      "execution_count": 5,
      "outputs": [
        {
          "output_type": "stream",
          "text": "Using TensorFlow backend.\n",
          "name": "stderr"
        },
        {
          "output_type": "stream",
          "text": "Model: \"sequential_1\"\n_________________________________________________________________\nLayer (type)                 Output Shape              Param #   \n=================================================================\ndense_1 (Dense)              (None, 20)                420       \n_________________________________________________________________\ndense_2 (Dense)              (None, 12)                252       \n_________________________________________________________________\ndense_3 (Dense)              (None, 4)                 52        \n=================================================================\nTotal params: 724\nTrainable params: 724\nNon-trainable params: 0\n_________________________________________________________________\n",
          "name": "stdout"
        }
      ]
    },
    {
      "metadata": {
        "trusted": true
      },
      "cell_type": "code",
      "source": "model.compile(loss='categorical_crossentropy', optimizer='adam', metrics=['accuracy'])\n#Adam je optimalizačný algoritmus, ktorý sa dá použiť na aktualizáciu iteratívnych váh v sieti na základe trénovacích dát.\n#Metrics určuje na základe čoho sa bude presnosť siete merať ",
      "execution_count": 6,
      "outputs": []
    },
    {
      "metadata": {
        "trusted": true
      },
      "cell_type": "code",
      "source": "history = model.fit(X_train, y_train,validation_data = (X_test,y_test), epochs=110, batch_size=100)\n# na preprivpravený model sa zavolá funkcia fit ktorá berie ako vstupné parametre dáta z datasetu, epochs = počet iterácií a batch_size kt predstavuje aké množstvo údajov sa spracováva naraz. ",
      "execution_count": null,
      "outputs": [
        {
          "output_type": "stream",
          "text": "Train on 1800 samples, validate on 200 samples\nEpoch 1/110\n1800/1800 [==============================] - 1s 299us/step - loss: 1.6270 - accuracy: 0.1644 - val_loss: 1.5687 - val_accuracy: 0.1650\nEpoch 2/110\n1800/1800 [==============================] - 0s 51us/step - loss: 1.4988 - accuracy: 0.2150 - val_loss: 1.4755 - val_accuracy: 0.2250\nEpoch 3/110\n1800/1800 [==============================] - 0s 59us/step - loss: 1.4198 - accuracy: 0.2594 - val_loss: 1.4134 - val_accuracy: 0.2550\nEpoch 4/110\n1800/1800 [==============================] - 0s 46us/step - loss: 1.3643 - accuracy: 0.3056 - val_loss: 1.3645 - val_accuracy: 0.3450\nEpoch 5/110\n1800/1800 [==============================] - 0s 52us/step - loss: 1.3172 - accuracy: 0.3561 - val_loss: 1.3165 - val_accuracy: 0.3700\nEpoch 6/110\n1800/1800 [==============================] - 0s 40us/step - loss: 1.2702 - accuracy: 0.4078 - val_loss: 1.2671 - val_accuracy: 0.4000\nEpoch 7/110\n1800/1800 [==============================] - 0s 60us/step - loss: 1.2162 - accuracy: 0.4483 - val_loss: 1.2098 - val_accuracy: 0.4450\nEpoch 8/110\n1800/1800 [==============================] - 0s 58us/step - loss: 1.1546 - accuracy: 0.4906 - val_loss: 1.1422 - val_accuracy: 0.4950\nEpoch 9/110\n1800/1800 [==============================] - 0s 46us/step - loss: 1.0859 - accuracy: 0.5378 - val_loss: 1.0701 - val_accuracy: 0.5250\nEpoch 10/110\n1800/1800 [==============================] - 0s 53us/step - loss: 1.0122 - accuracy: 0.5761 - val_loss: 0.9961 - val_accuracy: 0.5700\nEpoch 11/110\n1800/1800 [==============================] - 0s 55us/step - loss: 0.9406 - accuracy: 0.6061 - val_loss: 0.9230 - val_accuracy: 0.6150\nEpoch 12/110\n1800/1800 [==============================] - 0s 47us/step - loss: 0.8730 - accuracy: 0.6444 - val_loss: 0.8559 - val_accuracy: 0.6400\nEpoch 13/110\n1800/1800 [==============================] - 0s 42us/step - loss: 0.8116 - accuracy: 0.6844 - val_loss: 0.7973 - val_accuracy: 0.6800\nEpoch 14/110\n1800/1800 [==============================] - 0s 55us/step - loss: 0.7562 - accuracy: 0.7122 - val_loss: 0.7462 - val_accuracy: 0.7100\nEpoch 15/110\n1800/1800 [==============================] - 0s 45us/step - loss: 0.7063 - accuracy: 0.7328 - val_loss: 0.7002 - val_accuracy: 0.7400\nEpoch 16/110\n1800/1800 [==============================] - 0s 57us/step - loss: 0.6606 - accuracy: 0.7656 - val_loss: 0.6600 - val_accuracy: 0.7450\nEpoch 17/110\n1800/1800 [==============================] - 0s 50us/step - loss: 0.6186 - accuracy: 0.7894 - val_loss: 0.6230 - val_accuracy: 0.7650\nEpoch 18/110\n1800/1800 [==============================] - 0s 38us/step - loss: 0.5803 - accuracy: 0.8111 - val_loss: 0.5886 - val_accuracy: 0.8050\nEpoch 19/110\n1800/1800 [==============================] - 0s 44us/step - loss: 0.5466 - accuracy: 0.8244 - val_loss: 0.5580 - val_accuracy: 0.8200\nEpoch 20/110\n1800/1800 [==============================] - 0s 59us/step - loss: 0.5144 - accuracy: 0.8378 - val_loss: 0.5294 - val_accuracy: 0.8300\nEpoch 21/110\n1800/1800 [==============================] - 0s 55us/step - loss: 0.4851 - accuracy: 0.8500 - val_loss: 0.5029 - val_accuracy: 0.8600\nEpoch 22/110\n1800/1800 [==============================] - 0s 48us/step - loss: 0.4584 - accuracy: 0.8589 - val_loss: 0.4810 - val_accuracy: 0.8600\nEpoch 23/110\n1800/1800 [==============================] - 0s 53us/step - loss: 0.4336 - accuracy: 0.8667 - val_loss: 0.4588 - val_accuracy: 0.8550\nEpoch 24/110\n1800/1800 [==============================] - 0s 51us/step - loss: 0.4112 - accuracy: 0.8828 - val_loss: 0.4380 - val_accuracy: 0.8600\nEpoch 25/110\n1800/1800 [==============================] - 0s 46us/step - loss: 0.3907 - accuracy: 0.8861 - val_loss: 0.4188 - val_accuracy: 0.8700\nEpoch 26/110\n1800/1800 [==============================] - 0s 50us/step - loss: 0.3709 - accuracy: 0.8950 - val_loss: 0.4036 - val_accuracy: 0.8750\nEpoch 27/110\n1800/1800 [==============================] - 0s 60us/step - loss: 0.3529 - accuracy: 0.8983 - val_loss: 0.3869 - val_accuracy: 0.8800\nEpoch 28/110\n1800/1800 [==============================] - 0s 45us/step - loss: 0.3363 - accuracy: 0.9050 - val_loss: 0.3734 - val_accuracy: 0.8850\nEpoch 29/110\n1800/1800 [==============================] - 0s 51us/step - loss: 0.3214 - accuracy: 0.9089 - val_loss: 0.3617 - val_accuracy: 0.8800\nEpoch 30/110\n1800/1800 [==============================] - 0s 55us/step - loss: 0.3071 - accuracy: 0.9172 - val_loss: 0.3512 - val_accuracy: 0.8850\nEpoch 31/110\n1800/1800 [==============================] - 0s 48us/step - loss: 0.2948 - accuracy: 0.9211 - val_loss: 0.3404 - val_accuracy: 0.8800\nEpoch 32/110\n1800/1800 [==============================] - 0s 42us/step - loss: 0.2821 - accuracy: 0.9244 - val_loss: 0.3299 - val_accuracy: 0.8900\nEpoch 33/110\n1800/1800 [==============================] - 0s 54us/step - loss: 0.2715 - accuracy: 0.9250 - val_loss: 0.3210 - val_accuracy: 0.8850\nEpoch 34/110\n1800/1800 [==============================] - 0s 49us/step - loss: 0.2615 - accuracy: 0.9306 - val_loss: 0.3096 - val_accuracy: 0.8850\nEpoch 35/110\n1800/1800 [==============================] - 0s 39us/step - loss: 0.2508 - accuracy: 0.9339 - val_loss: 0.3029 - val_accuracy: 0.8900\nEpoch 36/110\n1800/1800 [==============================] - 0s 55us/step - loss: 0.2411 - accuracy: 0.9372 - val_loss: 0.2953 - val_accuracy: 0.8850\nEpoch 37/110\n1800/1800 [==============================] - 0s 54us/step - loss: 0.2329 - accuracy: 0.9406 - val_loss: 0.2868 - val_accuracy: 0.8850\nEpoch 38/110\n1800/1800 [==============================] - 0s 45us/step - loss: 0.2254 - accuracy: 0.9367 - val_loss: 0.2799 - val_accuracy: 0.8950\nEpoch 39/110\n1800/1800 [==============================] - 0s 47us/step - loss: 0.2184 - accuracy: 0.9378 - val_loss: 0.2748 - val_accuracy: 0.8850\nEpoch 40/110\n1800/1800 [==============================] - 0s 47us/step - loss: 0.2107 - accuracy: 0.9433 - val_loss: 0.2685 - val_accuracy: 0.8950\nEpoch 41/110\n1800/1800 [==============================] - 0s 49us/step - loss: 0.2036 - accuracy: 0.9456 - val_loss: 0.2625 - val_accuracy: 0.8850\nEpoch 42/110\n1800/1800 [==============================] - 0s 52us/step - loss: 0.1981 - accuracy: 0.9461 - val_loss: 0.2574 - val_accuracy: 0.8950\nEpoch 43/110\n1800/1800 [==============================] - 0s 56us/step - loss: 0.1924 - accuracy: 0.9461 - val_loss: 0.2545 - val_accuracy: 0.8950\nEpoch 44/110\n 100/1800 [>.............................] - ETA: 0s - loss: 0.2087 - accuracy: 0.9200",
          "name": "stdout"
        }
      ]
    },
    {
      "metadata": {
        "trusted": true
      },
      "cell_type": "code",
      "source": "y_pred = model.predict(X_test)\n#vygeneruje predikcie na zaklade vstupnych dat\npred = list()\nfor i in range(len(y_pred)):\n    pred.append(np.argmax(y_pred[i])) #argmax vráti pozíciu najväčšej hodnoty (teda prekonvertuje na int z OHT)\ntest = list()\nfor i in range(len(y_test)):\n    test.append(np.argmax(y_test[i]))",
      "execution_count": null,
      "outputs": []
    },
    {
      "metadata": {
        "trusted": true
      },
      "cell_type": "code",
      "source": "from sklearn.metrics import accuracy_score\na = accuracy_score(pred,test) # porovnáva hodnoty a vyhodnotí na kolko % sa výsledky zhodujú \nprint(\"Presnosť(%):\", a*100)",
      "execution_count": null,
      "outputs": []
    },
    {
      "metadata": {
        "trusted": true
      },
      "cell_type": "code",
      "source": "import matplotlib.pyplot as plt\nplt.plot(history.history[\"accuracy\"])\nplt.plot(history.history[\"val_accuracy\"])\nplt.title(\"Presnosť modelu\")\nplt.ylabel(\"Presnosť\")\nplt.xlabel(\"Epoch\")\nplt.legend([\"Train\", \"Test\"], loc=\"upper left\")\nplt.show()",
      "execution_count": null,
      "outputs": []
    },
    {
      "metadata": {
        "trusted": true
      },
      "cell_type": "code",
      "source": "plt.plot(history.history['loss'])\nplt.plot(history.history['val_loss'])\nplt.title('Model loss')\nplt.ylabel('chybovosť')\nplt.xlabel('Epoch')\nplt.legend(['Train', 'Test'], loc='upper left')\nplt.show()",
      "execution_count": null,
      "outputs": []
    },
    {
      "metadata": {
        "trusted": true
      },
      "cell_type": "code",
      "source": "",
      "execution_count": null,
      "outputs": []
    }
  ],
  "metadata": {
    "kernelspec": {
      "name": "python36",
      "display_name": "Python 3.6",
      "language": "python"
    },
    "language_info": {
      "mimetype": "text/x-python",
      "nbconvert_exporter": "python",
      "name": "python",
      "pygments_lexer": "ipython3",
      "version": "3.6.6",
      "file_extension": ".py",
      "codemirror_mode": {
        "version": 3,
        "name": "ipython"
      }
    }
  },
  "nbformat": 4,
  "nbformat_minor": 2
}